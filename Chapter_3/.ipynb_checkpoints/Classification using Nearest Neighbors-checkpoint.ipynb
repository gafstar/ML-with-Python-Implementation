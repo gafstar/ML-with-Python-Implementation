{
 "cells": [
  {
   "cell_type": "code",
   "execution_count": null,
   "metadata": {},
   "outputs": [],
   "source": [
    "##### Chapter 3: Classification using Nearest Neighbors --------------------\n",
    "\n",
    "## Example: Classifying Cancer Samples ----\n",
    "## Step 2: Exploring and preparing the data ---- \n",
    "\n",
    "# import the CSV file\n",
    "wbcd = read_csv(\"wisc_bc_data.csv\")\n",
    "\n",
    "# examine the structure of the wbcd data frame\n",
    "wbcd.dtypes\n",
    "\n",
    "# drop the id feature\n",
    "wbcd.drop(wbcd.columns[0], axis=1)\n",
    "\n",
    "# table of diagnosis\n",
    "wbcd.diagnosis.value_counts()\n",
    "\n",
    "\n",
    "# recode diagnosis as a factor\n",
    "wbcd['diagnosis'] = wbcd.Categorical(wbcd['diagnosis'], levels = c(\"B\", \"M\"),\n",
    "                         labels = c(\"Benign\", \"Malignant\"))\n",
    "\n",
    "# table or proportions with more informative labels\n",
    "round(prop.table(table(wbcd$diagnosis)) * 100, digits = 1)\n",
    "\n",
    "# summarize three numeric features\n",
    "summary(wbcd[c(\"radius_mean\", \"area_mean\", \"smoothness_mean\")])\n",
    "\n",
    "# create normalization function\n",
    "normalize <- function(x) {\n",
    "  return ((x - min(x)) / (max(x) - min(x)))\n",
    "}\n",
    "\n",
    "# test normalization function - result should be identical\n",
    "normalize(c(1, 2, 3, 4, 5))\n",
    "normalize(c(10, 20, 30, 40, 50))\n",
    "\n",
    "# normalize the wbcd data\n",
    "wbcd_n <- as.data.frame(lapply(wbcd[2:31], normalize))\n",
    "\n",
    "# confirm that normalization worked\n",
    "# summary(wbcd_n$area_mean)"
   ]
  }
 ],
 "metadata": {
  "kernelspec": {
   "display_name": "Python 3",
   "language": "python",
   "name": "python3"
  },
  "language_info": {
   "codemirror_mode": {
    "name": "ipython",
    "version": 3
   },
   "file_extension": ".py",
   "mimetype": "text/x-python",
   "name": "python",
   "nbconvert_exporter": "python",
   "pygments_lexer": "ipython3",
   "version": "3.8.10"
  }
 },
 "nbformat": 4,
 "nbformat_minor": 2
}
